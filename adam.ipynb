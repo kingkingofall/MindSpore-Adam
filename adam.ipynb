{
 "cells": [
  {
   "cell_type": "code",
   "execution_count": 1,
   "id": "da6501cb-d476-405d-a578-c005e123d927",
   "metadata": {},
   "outputs": [
    {
     "name": "stdout",
     "output_type": "stream",
     "text": [
      "Looking in indexes: https://pypi.tuna.tsinghua.edu.cn/simple\n",
      "Collecting mindvision\n",
      "  Downloading https://pypi.tuna.tsinghua.edu.cn/packages/da/35/8e45c5b695706e3f3328014ab4ec8baa4290b8339390570284127069ef9a/mindvision-0.1.0-py3-none-any.whl (194 kB)\n",
      "\u001b[K     |████████████████████████████████| 194 kB 7.6 MB/s eta 0:00:01\n",
      "\u001b[?25hRequirement already satisfied: numpy>=1.17.0 in /root/miniconda3/lib/python3.8/site-packages (from mindvision) (1.23.3)\n",
      "Collecting scikit-learn>=0.23.1\n",
      "  Downloading https://pypi.tuna.tsinghua.edu.cn/packages/bf/15/d1b649fc7685d11b806b4546a5438191fb2ad761de70da95ff676189dcec/scikit_learn-1.3.0-cp38-cp38-manylinux_2_17_x86_64.manylinux2014_x86_64.whl (11.1 MB)\n",
      "\u001b[K     |████████████████████████████████| 11.1 MB 91.9 MB/s eta 0:00:01\n",
      "\u001b[?25hCollecting pytest>=4.3.1\n",
      "  Downloading https://pypi.tuna.tsinghua.edu.cn/packages/33/b2/741130cbcf2bbfa852ed95a60dc311c9e232c7ed25bac3d9b8880a8df4ae/pytest-7.4.0-py3-none-any.whl (323 kB)\n",
      "\u001b[K     |████████████████████████████████| 323 kB 39.4 MB/s eta 0:00:01\n",
      "\u001b[?25hRequirement already satisfied: scipy>=1.5.2 in /root/miniconda3/lib/python3.8/site-packages (from mindvision) (1.10.1)\n",
      "Requirement already satisfied: wheel>=0.32.0 in /root/miniconda3/lib/python3.8/site-packages (from mindvision) (0.36.2)\n",
      "Collecting ml-collections\n",
      "  Downloading https://pypi.tuna.tsinghua.edu.cn/packages/aa/ea/853aa32dfa1006d3eb43384712f35b8f2d6f0a757b8c779d40c29e3e8515/ml_collections-0.1.1.tar.gz (77 kB)\n",
      "\u001b[K     |████████████████████████████████| 77 kB 29.4 MB/s  eta 0:00:01\n",
      "\u001b[?25hCollecting opencv-contrib-python-headless\n",
      "  Downloading https://pypi.tuna.tsinghua.edu.cn/packages/c6/61/3b6585f22d59fbf11d9bff0d96a6570a8862c00bc0bbb76efc13bc8cef4c/opencv_contrib_python_headless-4.8.0.74-cp37-abi3-manylinux_2_17_x86_64.manylinux2014_x86_64.whl (55.2 MB)\n",
      "\u001b[K     |████████████████████████████████| 55.2 MB 36.7 MB/s eta 0:00:011\n",
      "\u001b[?25hRequirement already satisfied: setuptools>=40.8.0 in /root/miniconda3/lib/python3.8/site-packages (from mindvision) (52.0.0.post20210125)\n",
      "Collecting opencv-python-headless\n",
      "  Downloading https://pypi.tuna.tsinghua.edu.cn/packages/76/02/f128517f3ade4bb5f71e2afd8461dba70e3f466ce745fa1fd1fade9ad1b7/opencv_python_headless-4.8.0.74-cp37-abi3-manylinux_2_17_x86_64.manylinux2014_x86_64.whl (49.1 MB)\n",
      "\u001b[K     |████████████████████████████████| 49.1 MB 140 kB/s  eta 0:00:01\n",
      "\u001b[?25hRequirement already satisfied: tqdm in /root/miniconda3/lib/python3.8/site-packages (from mindvision) (4.61.2)\n",
      "Requirement already satisfied: pillow>=6.2.0 in /root/miniconda3/lib/python3.8/site-packages (from mindvision) (9.2.0)\n",
      "Requirement already satisfied: matplotlib>=3.2.1 in /root/miniconda3/lib/python3.8/site-packages (from mindvision) (3.6.1)\n",
      "Collecting easydict>=1.9\n",
      "  Downloading https://pypi.tuna.tsinghua.edu.cn/packages/55/83/0d1ee7962f3ba3fbe9eebe67eb484f6745995c9af045c0ebe5f33564cba0/easydict-1.10.tar.gz (6.4 kB)\n",
      "Requirement already satisfied: fonttools>=4.22.0 in /root/miniconda3/lib/python3.8/site-packages (from matplotlib>=3.2.1->mindvision) (4.37.4)\n",
      "Requirement already satisfied: python-dateutil>=2.7 in /root/miniconda3/lib/python3.8/site-packages (from matplotlib>=3.2.1->mindvision) (2.8.2)\n",
      "Requirement already satisfied: kiwisolver>=1.0.1 in /root/miniconda3/lib/python3.8/site-packages (from matplotlib>=3.2.1->mindvision) (1.4.4)\n",
      "Requirement already satisfied: contourpy>=1.0.1 in /root/miniconda3/lib/python3.8/site-packages (from matplotlib>=3.2.1->mindvision) (1.0.5)\n",
      "Requirement already satisfied: cycler>=0.10 in /root/miniconda3/lib/python3.8/site-packages (from matplotlib>=3.2.1->mindvision) (0.11.0)\n",
      "Requirement already satisfied: packaging>=20.0 in /root/miniconda3/lib/python3.8/site-packages (from matplotlib>=3.2.1->mindvision) (21.3)\n",
      "Requirement already satisfied: pyparsing>=2.2.1 in /root/miniconda3/lib/python3.8/site-packages (from matplotlib>=3.2.1->mindvision) (3.0.9)\n",
      "Collecting exceptiongroup>=1.0.0rc8\n",
      "  Downloading https://pypi.tuna.tsinghua.edu.cn/packages/fe/17/f43b7c9ccf399d72038042ee72785c305f6c6fdc6231942f8ab99d995742/exceptiongroup-1.1.2-py3-none-any.whl (14 kB)\n",
      "Collecting pluggy<2.0,>=0.12\n",
      "  Downloading https://pypi.tuna.tsinghua.edu.cn/packages/51/32/4a79112b8b87b21450b066e102d6608907f4c885ed7b04c3fdb085d4d6ae/pluggy-1.2.0-py3-none-any.whl (17 kB)\n",
      "Collecting iniconfig\n",
      "  Downloading https://pypi.tuna.tsinghua.edu.cn/packages/ef/a6/62565a6e1cf69e10f5727360368e451d4b7f58beeac6173dc9db836a5b46/iniconfig-2.0.0-py3-none-any.whl (5.9 kB)\n",
      "Requirement already satisfied: tomli>=1.0.0 in /root/miniconda3/lib/python3.8/site-packages (from pytest>=4.3.1->mindvision) (2.0.1)\n",
      "Requirement already satisfied: six>=1.5 in /root/miniconda3/lib/python3.8/site-packages (from python-dateutil>=2.7->matplotlib>=3.2.1->mindvision) (1.16.0)\n",
      "Collecting joblib>=1.1.1\n",
      "  Downloading https://pypi.tuna.tsinghua.edu.cn/packages/28/08/9dcdaa5aac4634e4c23af26d92121f7ce445c630efa0d3037881ae2407fb/joblib-1.3.1-py3-none-any.whl (301 kB)\n",
      "\u001b[K     |████████████████████████████████| 301 kB 39.3 MB/s eta 0:00:01\n",
      "\u001b[?25hCollecting threadpoolctl>=2.0.0\n",
      "  Downloading https://pypi.tuna.tsinghua.edu.cn/packages/61/cf/6e354304bcb9c6413c4e02a747b600061c21d38ba51e7e544ac7bc66aecc/threadpoolctl-3.1.0-py3-none-any.whl (14 kB)\n",
      "Requirement already satisfied: absl-py in /root/miniconda3/lib/python3.8/site-packages (from ml-collections->mindvision) (1.2.0)\n",
      "Collecting PyYAML\n",
      "  Downloading https://pypi.tuna.tsinghua.edu.cn/packages/d7/42/7ad4b6d67a16229496d4f6e74201bdbebcf4bc1e87d5a70c9297d4961bd2/PyYAML-6.0-cp38-cp38-manylinux_2_5_x86_64.manylinux1_x86_64.manylinux_2_12_x86_64.manylinux2010_x86_64.whl (701 kB)\n",
      "\u001b[K     |████████████████████████████████| 701 kB 108.7 MB/s eta 0:00:01\n",
      "\u001b[?25hCollecting contextlib2\n",
      "  Downloading https://pypi.tuna.tsinghua.edu.cn/packages/76/56/6d6872f79d14c0cb02f1646cbb4592eef935857c0951a105874b7b62a0c3/contextlib2-21.6.0-py2.py3-none-any.whl (13 kB)\n",
      "Building wheels for collected packages: easydict, ml-collections\n",
      "  Building wheel for easydict (setup.py) ... \u001b[?25ldone\n",
      "\u001b[?25h  Created wheel for easydict: filename=easydict-1.10-py3-none-any.whl size=6497 sha256=f2670822081f1fc1f77630293a7ffb74816ff10f9395f370e503f0c4186bf839\n",
      "  Stored in directory: /root/.cache/pip/wheels/e1/3b/5d/158b57fde5919355b68a33d03e8e141546d8db895644cd683c\n",
      "  Building wheel for ml-collections (setup.py) ... \u001b[?25ldone\n",
      "\u001b[?25h  Created wheel for ml-collections: filename=ml_collections-0.1.1-py3-none-any.whl size=94496 sha256=71861d7712f2987ad85a12a9860a17d9133a18bb93bd002b3bf8734395595caf\n",
      "  Stored in directory: /root/.cache/pip/wheels/ec/a4/41/92d72f51719edbdd46a8f24554ad2450b363c9a0965a814cfe\n",
      "Successfully built easydict ml-collections\n",
      "Installing collected packages: threadpoolctl, PyYAML, pluggy, joblib, iniconfig, exceptiongroup, contextlib2, scikit-learn, pytest, opencv-python-headless, opencv-contrib-python-headless, ml-collections, easydict, mindvision\n",
      "Successfully installed PyYAML-6.0 contextlib2-21.6.0 easydict-1.10 exceptiongroup-1.1.2 iniconfig-2.0.0 joblib-1.3.1 mindvision-0.1.0 ml-collections-0.1.1 opencv-contrib-python-headless-4.8.0.74 opencv-python-headless-4.8.0.74 pluggy-1.2.0 pytest-7.4.0 scikit-learn-1.3.0 threadpoolctl-3.1.0\n",
      "\u001b[33mWARNING: Running pip as the 'root' user can result in broken permissions and conflicting behaviour with the system package manager. It is recommended to use a virtual environment instead: https://pip.pypa.io/warnings/venv\u001b[0m\n",
      "\u001b[33mWARNING: Skipping opencv-python-headless-4.6.0.66 as it is not installed.\u001b[0m\n",
      "\u001b[33mWARNING: Running pip as the 'root' user can result in broken permissions and conflicting behaviour with the system package manager. It is recommended to use a virtual environment instead: https://pip.pypa.io/warnings/venv\u001b[0m\n",
      "Looking in indexes: https://pypi.tuna.tsinghua.edu.cn/simple\n",
      "Collecting opencv-python-headless<4.3\n",
      "  Downloading https://pypi.tuna.tsinghua.edu.cn/packages/f5/33/90171a3d1a4cd3776e6b4db62fe9079906d8c3cd9553c0556564789f1365/opencv_python_headless-4.2.0.34-cp38-cp38-manylinux1_x86_64.whl (21.6 MB)\n",
      "\u001b[K     |████████████████████████████████| 21.6 MB 10.6 MB/s eta 0:00:01\n",
      "\u001b[?25hRequirement already satisfied: numpy>=1.17.3 in /root/miniconda3/lib/python3.8/site-packages (from opencv-python-headless<4.3) (1.23.3)\n",
      "Installing collected packages: opencv-python-headless\n",
      "  Attempting uninstall: opencv-python-headless\n",
      "    Found existing installation: opencv-python-headless 4.8.0.74\n",
      "    Uninstalling opencv-python-headless-4.8.0.74:\n",
      "      Successfully uninstalled opencv-python-headless-4.8.0.74\n",
      "Successfully installed opencv-python-headless-4.2.0.34\n",
      "\u001b[33mWARNING: Running pip as the 'root' user can result in broken permissions and conflicting behaviour with the system package manager. It is recommended to use a virtual environment instead: https://pip.pypa.io/warnings/venv\u001b[0m\n"
     ]
    }
   ],
   "source": [
    "!pip install mindvision -i https://pypi.tuna.tsinghua.edu.cn/simple\n",
    "!pip uninstall opencv-python-headless-4.6.0.66\n",
    "!pip install \"opencv-python-headless<4.3\" -i https://pypi.tuna.tsinghua.edu.cn/simple"
   ]
  },
  {
   "cell_type": "code",
   "execution_count": 1,
   "id": "41360ef5-447a-43eb-9d04-c7ced58e7b1f",
   "metadata": {},
   "outputs": [],
   "source": [
    "import os\n",
    "from mindvision.dataset import DownLoad\n",
    "\n",
    "#数据集下载路径\n",
    "dataset_url = \"https://mindspore-website.obs.cn-north-4.myhuaweicloud.com/\" \\\n",
    "      \"./MNIST.zip\"\n",
    "save_dir = \"./\"\n",
    "\n",
    "#数据集下载\n",
    "dl = DownLoad()\n",
    "if not(os.path.exists(save_dir+\"/MNIST.zip\")):\n",
    "    dl.download_and_extract_archive(dataset_url, save_dir)"
   ]
  },
  {
   "cell_type": "code",
   "execution_count": 2,
   "id": "8b520094-0c09-4cc6-b350-84a09861297c",
   "metadata": {},
   "outputs": [],
   "source": [
    "from mindvision.dataset import Mnist\n",
    "from mindspore.dataset import MnistDataset\n",
    "from mindspore import nn, context, ops, Parameter, Tensor\n",
    "from mindspore.common.initializer import initializer\n",
    "import numpy as np\n",
    "context.set_context(device_target='GPU')\n",
    "\n",
    "# 训练集\n",
    "dataset_train = MnistDataset(save_dir+\"/MNIST/train\",shuffle=True) \n",
    "# 测试集\n",
    "dataset_eval = MnistDataset(save_dir+\"/MNIST/test\",shuffle=True)"
   ]
  },
  {
   "cell_type": "code",
   "execution_count": 4,
   "id": "75c60b0c-4bc7-4a44-bc3b-1e1ce3fb26de",
   "metadata": {},
   "outputs": [],
   "source": [
    "import mindspore as ms\n",
    "from mindspore.dataset import vision, transforms\n",
    "\n",
    "#数据集处理: datapipe()\n",
    "def datapipe(dataset, batch_size,usage):\n",
    "    image_transforms=[\n",
    "        vision.Resize((32, 32)),\n",
    "        vision.Rescale(1.0 / 255.0,0),\n",
    "        vision.ToTensor()\n",
    "    ]\n",
    "\n",
    "    label_transform = transforms.TypeCast(ms.int32)\n",
    "    dataset = dataset.map(image_transforms, 'image')\n",
    "    dataset = dataset.map(label_transform, 'label')\n",
    "    dataset = dataset.batch(batch_size)\n",
    "\n",
    "    return dataset"
   ]
  },
  {
   "cell_type": "code",
   "execution_count": 5,
   "id": "3f6d18f8-c063-4eae-8f8e-8afd6d7136ca",
   "metadata": {},
   "outputs": [],
   "source": [
    "class ADAM(nn.Optimizer):\n",
    "    \"\"\"定义优化器\"\"\"\n",
    "    def __init__(self, parameters, learning_rate, beta1=0.9, beta2=0.999, eps=1e-8):\n",
    "        super(ADAM, self).__init__(learning_rate, parameters)\n",
    "        self.beta1 = beta1\n",
    "        self.beta2 = beta2\n",
    "        self.eps = eps\n",
    "\n",
    "        self.beta1_power = Parameter(initializer(1, (), ms.float32), name=\"beta1_power\")\n",
    "        self.beta2_power = Parameter(initializer(1, (), ms.float32), name=\"beta2_power\")        \n",
    "        # 初始化动量和学习率调度参数\n",
    "        self.m = self._parameters.clone(prefix=\"m\", init='zeros')\n",
    "        self.v = self._parameters.clone(prefix=\"v\", init='zeros')\n",
    "    \n",
    "    def construct(self, grads):\n",
    "        lr = self.get_lr()\n",
    "        params = self.parameters # 待更新的权重参数\n",
    "            \n",
    "        self.beta1_power = self.beta1_power * self.beta1\n",
    "        self.beta2_power = self.beta2_power * self.beta2\n",
    "        beta1_correction = 1.0 - self.beta1_power\n",
    "        beta2_correction = 1.0 - self.beta2_power\n",
    "\n",
    "        # 更新动量和学习率调度参数\n",
    "        ops.assign(self.m, (1 - self.beta1) * (self.m - grads))\n",
    "        ops.assign(self.v, (1 - self.beta2) * (self.v - (grads * grads)))\n",
    "\n",
    "        # 计算学习率调度\n",
    "        lr = self.learning_rate * ops.sqrt(beta2_correction) / beta1_correction\n",
    "\n",
    "        # 更新参数\n",
    "        ops.assign(params, lr * self.m / (ops.sqrt(self.v) + self.eps))\n",
    "        return params\n"
   ]
  },
  {
   "cell_type": "code",
   "execution_count": 6,
   "id": "d13463ba-e78d-4c58-9fe2-34ea749791a9",
   "metadata": {},
   "outputs": [],
   "source": [
    "#处理数据集\n",
    "BATCH_SIZE = 32\n",
    "\n",
    "dataset_train = datapipe(dataset_train,BATCH_SIZE, \"train\")\n",
    "dataset_eval = datapipe(dataset_eval,BATCH_SIZE, \"test\")"
   ]
  },
  {
   "cell_type": "code",
   "execution_count": 7,
   "id": "6d271d28-6373-4640-a2b3-e47692513c57",
   "metadata": {},
   "outputs": [],
   "source": [
    "from mindvision.classification.models import lenet\n",
    "\n",
    "network = lenet(num_classes=10, pretrained=False)"
   ]
  },
  {
   "cell_type": "code",
   "execution_count": 8,
   "id": "be6ea66a-acd8-4bbe-9b16-efe33c8a468b",
   "metadata": {},
   "outputs": [],
   "source": [
    "import mindspore.nn as nn\n",
    "\n",
    "# 定义损失函数\n",
    "net_loss = nn.SoftmaxCrossEntropyWithLogits(sparse=True, reduction='mean')\n",
    "\n",
    "# 定义优化器函数\n",
    "net_opt =  nn.Adam(network.trainable_params(), learning_rate=0.001)"
   ]
  },
  {
   "cell_type": "code",
   "execution_count": 9,
   "id": "99b7031c-602d-4446-b879-124817a215b0",
   "metadata": {},
   "outputs": [],
   "source": [
    "from mindspore.train.callback import ModelCheckpoint, CheckpointConfig\n",
    "\n",
    "# 设置模型保存参数\n",
    "config_ck = CheckpointConfig(save_checkpoint_steps=1875, keep_checkpoint_max=10)\n",
    "\n",
    "# 应用模型保存参数\n",
    "ckpoint = ModelCheckpoint(prefix=\"lenet\", directory=\"./lenet\", config=config_ck)"
   ]
  },
  {
   "cell_type": "code",
   "execution_count": 10,
   "id": "5afdc60a-af57-4910-86e5-509c4c4364c1",
   "metadata": {},
   "outputs": [
    {
     "name": "stdout",
     "output_type": "stream",
     "text": [
      "Epoch:[  0/ 10], step:[ 1875/ 1875], loss:[0.437/0.437], time:9163.214 ms, lr:0.00100\n",
      "Epoch time: 14606.243 ms, per step time: 7.790 ms, avg loss: 0.437\n",
      "Epoch:[  1/ 10], step:[ 1875/ 1875], loss:[0.340/0.340], time:1799.353 ms, lr:0.00100\n",
      "Epoch time: 1801.789 ms, per step time: 0.961 ms, avg loss: 0.340\n",
      "Epoch:[  2/ 10], step:[ 1875/ 1875], loss:[0.079/0.079], time:1864.385 ms, lr:0.00100\n",
      "Epoch time: 1866.026 ms, per step time: 0.995 ms, avg loss: 0.079\n",
      "Epoch:[  3/ 10], step:[ 1875/ 1875], loss:[0.065/0.065], time:1749.148 ms, lr:0.00100\n",
      "Epoch time: 1751.332 ms, per step time: 0.934 ms, avg loss: 0.065\n",
      "Epoch:[  4/ 10], step:[ 1875/ 1875], loss:[0.011/0.011], time:1820.287 ms, lr:0.00100\n",
      "Epoch time: 1824.944 ms, per step time: 0.973 ms, avg loss: 0.011\n",
      "Epoch:[  5/ 10], step:[ 1875/ 1875], loss:[0.080/0.080], time:1840.723 ms, lr:0.00100\n",
      "Epoch time: 1844.739 ms, per step time: 0.984 ms, avg loss: 0.080\n",
      "Epoch:[  6/ 10], step:[ 1875/ 1875], loss:[0.065/0.065], time:1773.427 ms, lr:0.00100\n",
      "Epoch time: 1775.440 ms, per step time: 0.947 ms, avg loss: 0.065\n",
      "Epoch:[  7/ 10], step:[ 1875/ 1875], loss:[0.008/0.008], time:1753.964 ms, lr:0.00100\n",
      "Epoch time: 1757.530 ms, per step time: 0.937 ms, avg loss: 0.008\n",
      "Epoch:[  8/ 10], step:[ 1875/ 1875], loss:[0.011/0.011], time:1750.233 ms, lr:0.00100\n",
      "Epoch time: 1751.982 ms, per step time: 0.934 ms, avg loss: 0.011\n",
      "Epoch:[  9/ 10], step:[ 1875/ 1875], loss:[0.105/0.105], time:1763.437 ms, lr:0.00100\n",
      "Epoch time: 1766.373 ms, per step time: 0.942 ms, avg loss: 0.105\n"
     ]
    }
   ],
   "source": [
    "from mindvision.engine.callback import LossMonitor\n",
    "from mindspore.train import Model\n",
    "import mindspore as ms\n",
    "\n",
    "# 初始化模型参数\n",
    "model = Model(network, loss_fn=net_loss, optimizer=net_opt, metrics={'accuracy'})\n",
    "\n",
    "# 训练网络模型\n",
    "model.train(10, dataset_train, callbacks=[ckpoint, LossMonitor(0.001, 1875)])"
   ]
  },
  {
   "cell_type": "code",
   "execution_count": 11,
   "id": "2d170a03-c0d3-41b3-afdf-e018a7e5b2c3",
   "metadata": {},
   "outputs": [
    {
     "name": "stdout",
     "output_type": "stream",
     "text": [
      "{'accuracy': 0.983526357827476}\n"
     ]
    }
   ],
   "source": [
    "acc = model.eval(dataset_eval)\n",
    "\n",
    "print(\"{}\".format(acc))"
   ]
  },
  {
   "cell_type": "code",
   "execution_count": 13,
   "id": "46dede78-a8a7-4279-afee-0ad57f2693cb",
   "metadata": {},
   "outputs": [
    {
     "data": {
      "image/png": "[encoded data removed]",
      "text/plain": [
       "<Figure size 640x480 with 32 Axes>"
      ]
     },
     "metadata": {},
     "output_type": "display_data"
    },
    {
     "name": "stdout",
     "output_type": "stream",
     "text": [
      "Predicted: \"[1 8 2 2 4 9 7 2 0 8 5 8 6 1 4 7 8 0 1 8 7 8 0 7 9 5 4 2 2 7 9 9]\"\n",
      "Actual:    \"[1 8 3 2 4 8 7 2 0 8 5 8 6 1 9 7 8 0 1 8 7 8 6 7 9 5 4 2 3 9 9 9]\"\n"
     ]
    }
   ],
   "source": [
    "import numpy as np\n",
    "from mindspore import Tensor\n",
    "import matplotlib.pyplot as plt\n",
    "import mindspore as ms\n",
    "\n",
    "# 实例化model类\n",
    "model = Model(network, loss_fn=net_loss, optimizer=net_opt, metrics={'accuracy'})\n",
    "# 加载已经保存的用于测试的模型\n",
    "param_dict = ms.load_checkpoint(\"./lenet/lenet-1_1875.ckpt\")\n",
    "\n",
    "# 加载参数到网络中\n",
    "ms.load_param_into_net(network, param_dict)\n",
    "\n",
    "#加载测试集\n",
    "dataset_infer = MnistDataset(save_dir+\"/MNIST/test\",shuffle=True) \n",
    "dataset_infer = datapipe(dataset_infer,BATCH_SIZE,\"test\")\n",
    "\n",
    "ds_test = dataset_infer.create_dict_iterator()\n",
    "data = next(ds_test)\n",
    "images = data[\"image\"].asnumpy()\n",
    "labels = data[\"label\"].asnumpy()\n",
    "\n",
    "plt.figure()\n",
    "for i in range(1, 33):\n",
    "    plt.subplot(8, 4, i)\n",
    "    plt.imshow(images[i-1][0], interpolation=\"None\", cmap=\"gray\")\n",
    "plt.show()\n",
    "\n",
    "# 使用函数model.predict预测image对应分类\n",
    "output = model.predict(Tensor(data['image']))\n",
    "predicted = np.argmax(output.asnumpy(), axis=1)\n",
    "\n",
    "# 输出预测分类与实际分类\n",
    "print(f'Predicted: \"{predicted}\"')\n",
    "print(f'Actual:    \"{labels}\"')"
   ]
  },
  {
   "cell_type": "code",
   "execution_count": null,
   "id": "beaf0606-6d44-42b7-a092-97e9f965272b",
   "metadata": {},
   "outputs": [],
   "source": []
  }
 ],
 "metadata": {
  "kernelspec": {
   "display_name": "Python 3 (ipykernel)",
   "language": "python",
   "name": "python3"
  },
  "language_info": {
   "codemirror_mode": {
    "name": "ipython",
    "version": 3
   },
   "file_extension": ".py",
   "mimetype": "text/x-python",
   "name": "python",
   "nbconvert_exporter": "python",
   "pygments_lexer": "ipython3",
   "version": "3.8.10"
  }
 },
 "nbformat": 4,
 "nbformat_minor": 5
}
